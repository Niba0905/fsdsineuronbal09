{
 "cells": [
  {
   "cell_type": "code",
   "execution_count": 4,
   "metadata": {},
   "outputs": [
    {
     "name": "stdout",
     "output_type": "stream",
     "text": [
      "enter the number1\n",
      "enter the number2\n",
      "enter the number3\n",
      "enter the number4\n",
      "enter the number5\n",
      "enter the number6\n",
      "enter the number2\n",
      "enter the number1\n",
      "enter the number3\n",
      "enter the number4\n",
      "the list l1 : [1, 2, 3, 4, 5]\n",
      "the list l2: [6, 2, 1, 3, 4]\n",
      "the common items in l1 & l2 [1, 2, 3, 4]\n"
     ]
    }
   ],
   "source": [
    "#Write a program to accept 2 lists from the user of 5 nos each .\n",
    "#Assume each list will have unique nos Now find out how many items in these lists are common \n",
    "l1=[]\n",
    "l2=[]  \n",
    "for i in range(1,6):\n",
    "    i=int(input('enter the number'))\n",
    "    l1.append(i)\n",
    "for j in range(2,7):\n",
    "    j=int(input('enter the number'))\n",
    "    l2.append(j)\n",
    "l1_s=set(l1)\n",
    "intersection=l1_s.intersection(l2)\n",
    "intersection_l=list(intersection)\n",
    "\n",
    "print('The list l1 :',l1)\n",
    "print('The list l2:',l2)\n",
    "print('The common items in l1 & l2 :',intersection_l)\n",
    "    "
   ]
  },
  {
   "cell_type": "code",
   "execution_count": 3,
   "metadata": {},
   "outputs": [
    {
     "name": "stdout",
     "output_type": "stream",
     "text": [
      "enter the number1\n",
      "enter the number2\n",
      "enter the number2\n",
      "The item alredy in list enter other item\n",
      "enter the number3\n",
      "enter the number4\n",
      "enter the number5\n",
      "The list [1, 2, 3, 4, 5]\n"
     ]
    }
   ],
   "source": [
    "#Write a program to accept 5 unique integers from the user.\n",
    "#Make sure if the integer being entered is already present in the list your code displays the message “Item already present” and ask the user to reenter the integer.\n",
    "l1=[]\n",
    "for item in range(0,6):\n",
    "    item=int(input('enter the number'))\n",
    "    if item not in l1:\n",
    "        l1.append(item)\n",
    "    else:\n",
    "        print('The item alredy in list enter other item')\n",
    "\n",
    "print('The list',l1)\n"
   ]
  },
  {
   "cell_type": "code",
   "execution_count": null,
   "metadata": {},
   "outputs": [],
   "source": []
  }
 ],
 "metadata": {
  "kernelspec": {
   "display_name": "Python 3",
   "language": "python",
   "name": "python3"
  },
  "language_info": {
   "codemirror_mode": {
    "name": "ipython",
    "version": 3
   },
   "file_extension": ".py",
   "mimetype": "text/x-python",
   "name": "python",
   "nbconvert_exporter": "python",
   "pygments_lexer": "ipython3",
   "version": "3.7.6"
  }
 },
 "nbformat": 4,
 "nbformat_minor": 4
}
