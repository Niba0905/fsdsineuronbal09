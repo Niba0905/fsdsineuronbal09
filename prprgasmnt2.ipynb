{
 "cells": [
  {
   "cell_type": "code",
   "execution_count": 3,
   "metadata": {},
   "outputs": [
    {
     "name": "stdout",
     "output_type": "stream",
     "text": [
      "enter the kilometer:5.6\n",
      "The relevant mile for the kilometer 3.47967867652907\n"
     ]
    }
   ],
   "source": [
    "#Write a Python program to convert kilometers to miles?\n",
    "k=float(input('enter the kilometer:'))\n",
    "M = k/1.609344\n",
    "print('The relevant mile for the kilometer',M)"
   ]
  },
  {
   "cell_type": "code",
   "execution_count": 7,
   "metadata": {},
   "outputs": [
    {
     "name": "stdout",
     "output_type": "stream",
     "text": [
      "enter the value for celsius45\n",
      "Fahrenheit for a given Celsius : 113.0\n"
     ]
    }
   ],
   "source": [
    "#Write a Python program to convert Celsius to Fahrenheit?\n",
    "C=float(input('enter the value for celsius'))\n",
    "F = (C * 1.8) + 32  \n",
    "print('Fahrenheit for a given Celsius :',F)"
   ]
  },
  {
   "cell_type": "code",
   "execution_count": 10,
   "metadata": {},
   "outputs": [],
   "source": [
    "#Write a Python program to display calendar\n",
    "import datetime\n",
    "import calendar"
   ]
  },
  {
   "cell_type": "code",
   "execution_count": 13,
   "metadata": {},
   "outputs": [
    {
     "name": "stdout",
     "output_type": "stream",
     "text": [
      "enter the year : 1973\n",
      "enter the month : 7\n",
      "     July 1973\n",
      "Mo Tu We Th Fr Sa Su\n",
      "                   1\n",
      " 2  3  4  5  6  7  8\n",
      " 9 10 11 12 13 14 15\n",
      "16 17 18 19 20 21 22\n",
      "23 24 25 26 27 28 29\n",
      "30 31\n",
      "\n"
     ]
    }
   ],
   "source": [
    "yy=int(input('enter the year : '))\n",
    "mm=int(input('enter the month : '))\n",
    "print(calendar.month(yy,mm))"
   ]
  },
  {
   "cell_type": "code",
   "execution_count": 18,
   "metadata": {},
   "outputs": [
    {
     "name": "stdout",
     "output_type": "stream",
     "text": [
      "Enter the coefficients of a: 4\n",
      "Enter the coefficients of b: 5\n",
      "Enter the coefficients of c: 6\n",
      "This equation has two solutions:  (-0.625+1.0532687216470449j)  or (-0.625-1.0532687216470449j)\n"
     ]
    }
   ],
   "source": [
    "#Write a Python program to solve quadratic equation?\n",
    "import cmath\n",
    "a = int(input(\"Enter the coefficients of a: \"))\n",
    "b = int(input(\"Enter the coefficients of b: \"))\n",
    "c = int(input(\"Enter the coefficients of c: \"))\n",
    "\n",
    "d =(b**2)-(4*a*c)# discriminant\n",
    "x1 = (-b+cmath.sqrt(d))/(2*a)\n",
    "x2 = (-b-cmath.sqrt(d))/(2*a)\n",
    "print (\"This equation has two solutions: \", x1, \" or\", x2)"
   ]
  },
  {
   "cell_type": "code",
   "execution_count": 2,
   "metadata": {},
   "outputs": [
    {
     "name": "stdout",
     "output_type": "stream",
     "text": [
      "entr the variable-v1 :8\n",
      "enter the variable-v2 :98\n",
      "the swapped variable 98 8\n"
     ]
    }
   ],
   "source": [
    "#Write a Python program to swap two variables without temp variable?\n",
    "var1=int(input('entr the variable-v1 :'))\n",
    "var2=int(input('enter the variable-v2 :'))\n",
    "var1,var2=var2,var1\n",
    "print('the swapped variable',var1,var2)"
   ]
  },
  {
   "cell_type": "code",
   "execution_count": null,
   "metadata": {},
   "outputs": [],
   "source": []
  }
 ],
 "metadata": {
  "kernelspec": {
   "display_name": "Python 3",
   "language": "python",
   "name": "python3"
  },
  "language_info": {
   "codemirror_mode": {
    "name": "ipython",
    "version": 3
   },
   "file_extension": ".py",
   "mimetype": "text/x-python",
   "name": "python",
   "nbconvert_exporter": "python",
   "pygments_lexer": "ipython3",
   "version": "3.7.6"
  }
 },
 "nbformat": 4,
 "nbformat_minor": 4
}
