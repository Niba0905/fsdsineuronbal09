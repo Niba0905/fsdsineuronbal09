{
 "cells": [
  {
   "cell_type": "code",
   "execution_count": null,
   "metadata": {},
   "outputs": [],
   "source": [
    "#1 . you have to write a fun which will take string and return a len of \n",
    "#it without using a inbuilt fun len\n",
    "#i==0\n",
    "def findlen(a):  \n",
    "    \"\"\"This function will find the length of a string\"\"\"\n",
    "    count=0\n",
    "    for i in a:        \n",
    "        count+=1\n",
    "    return count\n",
    "   "
   ]
  },
  {
   "cell_type": "code",
   "execution_count": null,
   "metadata": {},
   "outputs": [],
   "source": [
    "a='dfdgr dg'\n",
    "findlen(a)\n"
   ]
  },
  {
   "cell_type": "code",
   "execution_count": null,
   "metadata": {},
   "outputs": [],
   "source": [
    "#2write a fun which will be able to print an index of all premitive element which you\n",
    "willpass\n",
    "def findindex(l):\n",
    "    \"\"\" this fiunction is to find index of all primitive elements\"\"\"\n",
    "    for i in range(len(l)):\n",
    "        print(i)\n",
    "        \n"
   ]
  },
  {
   "cell_type": "code",
   "execution_count": null,
   "metadata": {},
   "outputs": [],
   "source": [
    "l=[2,3,2,[2,3,4],(1,2,3,5)]\n",
    "findindex(l)"
   ]
  },
  {
   "cell_type": "code",
   "execution_count": null,
   "metadata": {},
   "outputs": [],
   "source": [
    "#     l1=[]\n",
    "#     for i in b:\n",
    "#         print(b[i])\n",
    "#         l1.append(b[i])\n",
    "#         return l1\n",
    "#3.write a function to find dic values\n",
    "def finddictval(b):\n",
    "    \"\"\"This function is to find dict values\"\"\"\n",
    "    L1=[]\n",
    "#     for i in b.values():\n",
    "#         L1.append(i)                 \n",
    "#         return L1\n",
    "    for i in b.values():\n",
    "        #if type(i)==dict:\n",
    "              L1.append(i)\n",
    "    return L1\n",
    "            \n",
    "        \n",
    "        \n",
    "#     #for j in i:\n",
    "        \n",
    "        \n",
    "      \n",
    "             \n",
    "          \n",
    "    \n",
    "        \n",
    "\n",
    "                \n",
    "              \n",
    "            \n",
    "            \n",
    "        \n",
    "        "
   ]
  },
  {
   "cell_type": "code",
   "execution_count": null,
   "metadata": {},
   "outputs": [],
   "source": [
    "b={'a':1,\n",
    "   'b':'bala',\n",
    "   'c':{'kal':3}\n",
    "  }\n",
    "# l=list(b.values())\n",
    "# print(l)\n",
    "# L=[]\n",
    "# for i in b.values():\n",
    "#     #for j in i:\n",
    "#         if type(i)==dict:\n",
    "#             L.extend(i)\n",
    "        \n",
    "#         #L.append(i)        \n",
    "#         #L.extend((i.values()))\n",
    "# #      \n",
    "  \n",
    "\n",
    "\n",
    "\n",
    "\n",
    "#finddictval(b)"
   ]
  },
  {
   "cell_type": "code",
   "execution_count": null,
   "metadata": {},
   "outputs": [],
   "source": [
    "\n",
    "finddictval(b)"
   ]
  },
  {
   "cell_type": "code",
   "execution_count": null,
   "metadata": {},
   "outputs": [],
   "source": [
    "#4 . write a fun which will take another function as an input and return me an output \n",
    "def function1(a):\n",
    "    \"\"\"Function to call another function\"\"\"\n",
    "    return(a+1)\n",
    "def function2(c):\n",
    "    return(c+8)\n",
    "output=function1(function2(0))\n",
    "print(output)"
   ]
  },
  {
   "cell_type": "code",
   "execution_count": null,
   "metadata": {},
   "outputs": [],
   "source": [
    " #5.write a function which will take multiple list as an input and give me concatnation of all\n",
    "#the element as and output \n",
    "import itertools\n",
    "def listconcat(L1,L2,L3):\n",
    "    \"\"\"function to concatinate multiple lists\"\"\"\n",
    "#     L1=[1,2,3,4,5,[56,67,89]]\n",
    "#     L2=['ram',6,7,1,2]\n",
    "#     L3=['bala','kumar',34,5+6j]\n",
    "    return list(itertools.chain(L1,L2,L3))\n",
    "\n",
    "\n",
    "    "
   ]
  },
  {
   "cell_type": "code",
   "execution_count": null,
   "metadata": {},
   "outputs": [],
   "source": [
    "L1=[1,2,3,4,5,[56,67,89]]\n",
    "L2=['ram',6,7,1,2]\n",
    "L3=['bala','kumar',34,5+6j]\n",
    "listconcat(L1,L2,L3)"
   ]
  },
  {
   "cell_type": "code",
   "execution_count": null,
   "metadata": {},
   "outputs": [],
   "source": [
    "#6 . write a function which will be able to take a list as an input return an index of each element \n",
    "#like a inbuilt index function but even if we have repetative element it should return index \n",
    "\n",
    "def findindex(r):\n",
    "    \"\"\" this fiunction is to find index of all elements including the repetiative\"\"\"\n",
    "    for i in range(len(r)):\n",
    "        print(i)\n",
    "        "
   ]
  },
  {
   "cell_type": "code",
   "execution_count": null,
   "metadata": {},
   "outputs": [],
   "source": [
    "r=[1,2,3,4,5,6,5,]\n",
    "findindex(r)"
   ]
  },
  {
   "cell_type": "code",
   "execution_count": null,
   "metadata": {},
   "outputs": [],
   "source": [
    "#7.Write a function which will whould return list of all the file names from a directory . \n",
    "import os\n",
    "def filename():  \n",
    "    \"\"\"Functioj to return list of al filenames in a directory\"\"\"\n",
    "    path=\"C:\\\\Users\\\\Administrator\\\\datascience\\\\krishnaik\"\n",
    "    dir_list=os.listdir(path)\n",
    "    return(dir_list)"
   ]
  },
  {
   "cell_type": "code",
   "execution_count": null,
   "metadata": {},
   "outputs": [],
   "source": [
    "filename()"
   ]
  },
  {
   "cell_type": "code",
   "execution_count": null,
   "metadata": {},
   "outputs": [],
   "source": [
    "#8.write a function which will be able to show your system configuration\n",
    "import platform\n",
    "def system():\n",
    "    \"\"\" show system config function\"\"\"\n",
    "    process=platform.processor()\n",
    "    machine=platform.machine()\n",
    "    return process\n",
    "    return machine\n",
    "# platform.version()\n",
    "# platform.uname()\n",
    "# platform.system()\n",
    "# platform.platform()\n",
    "    \n"
   ]
  },
  {
   "cell_type": "code",
   "execution_count": null,
   "metadata": {},
   "outputs": [],
   "source": [
    "system"
   ]
  },
  {
   "cell_type": "code",
   "execution_count": null,
   "metadata": {},
   "outputs": [],
   "source": [
    "#9.write a function which will be able to show date and time\n",
    "import datetime\n",
    "def todaysdate():\n",
    "    \"\"\"show date time function\"\"\"\n",
    "    now=datetime.datetime.now()\n",
    "    return now\n"
   ]
  },
  {
   "cell_type": "code",
   "execution_count": null,
   "metadata": {},
   "outputs": [],
   "source": [
    "todaysdate()"
   ]
  },
  {
   "cell_type": "code",
   "execution_count": null,
   "metadata": {},
   "outputs": [],
   "source": [
    "#10.write a function whihc will be able to read a image file and show it to you .\n",
    "from PIL import Image\n",
    "def showimage():\n",
    "    \"\"\"Function to show image\"\"\"\n",
    "    image_path=\"C:\\\\Users\\\\Administrator\\\\datascience\\\\krishnaik\\\\test.png\"\n",
    "    image_show=Image.open(image_path)\n",
    "    return image_show\n",
    "    \n"
   ]
  },
  {
   "cell_type": "code",
   "execution_count": null,
   "metadata": {},
   "outputs": [],
   "source": [
    "showimage()"
   ]
  },
  {
   "cell_type": "code",
   "execution_count": null,
   "metadata": {},
   "outputs": [],
   "source": [
    " #11.write a function which can read video file and play for you\n",
    "import cv2\n",
    "def playvideo():\n",
    "\"\"\"Function to play video\"\"\"\n",
    "cap=cv2.videoCapture"
   ]
  },
  {
   "cell_type": "code",
   "execution_count": null,
   "metadata": {},
   "outputs": [],
   "source": [
    "#12.write a function whihc can move a file from one directory to another directory\n",
    "import os\n",
    "import shutil\n",
    "def movefile(a,b):\n",
    "    \"\"\"function to move file\"\"\"\n",
    "    source=a\n",
    "    destination=b\n",
    "    shutil.move(a,b)"
   ]
  },
  {
   "cell_type": "code",
   "execution_count": null,
   "metadata": {},
   "outputs": [],
   "source": [
    "a=\"C:\\\\Users\\\\Administrator\\\\datascience\\\\numpy.ipynb\"\n",
    "b=\"C:\\\\Users\\\\Administrator\\\\datascience\\\\krishnaik\"\n",
    "movefile(a,b)"
   ]
  },
  {
   "cell_type": "code",
   "execution_count": null,
   "metadata": {},
   "outputs": [],
   "source": [
    "#13.write a program to shutdown your system#\n",
    "import os\n",
    "def shutdownsystem():\n",
    "    \"\"\"This program is used to shotdown your system\"\"\"\n",
    "    shutdown=input('do you want to shutdown your system:yes/no')\n",
    "    if shutdown==\"no\":\n",
    "        exit()\n",
    "    else:\n",
    "        os.system('shutdown /s /t 1')"
   ]
  },
  {
   "cell_type": "code",
   "execution_count": null,
   "metadata": {},
   "outputs": [],
   "source": [
    "#14 & 15 #write a function which will be able to access your mail\n",
    "import smtplib\n",
    "def email():\n",
    "    \"\"\"Funcion to access email\"\"\"\n",
    "    gmail_user='test@gmail.com'\n",
    "    gmail_pw='test999'\n",
    "    sent_from=gmail_user\n",
    "    to='testreceipent@gmail.com'\n",
    "    subject='auto email from pytjon program'\n",
    "    body='email body'\n",
    "    \n",
    "\n"
   ]
  },
  {
   "cell_type": "code",
   "execution_count": null,
   "metadata": {},
   "outputs": [],
   "source": [
    "#16.write a func to read a complete PDf file \n",
    "import PyPDF2\n",
    "def readpdf(a):\n",
    "    \"\"\"Function to read PDF file\"\"\"\n",
    "    pdfread=PyPDF2.PdfFileReader(a)\n",
    "    pages=pdfread.numPages\n",
    "    for i in range(pages):\n",
    "        pagenumber=pdfread.getPage(i)\n",
    "        print('page no',i)\n",
    "        text=pagenumber.extractText().split()\n",
    "        for i in range(len(text)):\n",
    "            print(text[i],end='\\n\\n')\n",
    "print()\n",
    "    \n",
    "    \n",
    "#path=\"C:\\\\Users\\\\Administrator\\\\datascience\\\\krishnaik\\\\4. Data processing and EDA.pdf\"\n"
   ]
  },
  {
   "cell_type": "code",
   "execution_count": null,
   "metadata": {},
   "outputs": [],
   "source": [
    "a=\"C:\\\\Users\\\\Administrator\\\\datascience\\\\krishnaik\\\\4. Data processing and EDA.pdf\"\n",
    "readpdf(a)\n"
   ]
  },
  {
   "cell_type": "code",
   "execution_count": null,
   "metadata": {},
   "outputs": [],
   "source": [
    "#17.Function to read word file\n",
    "#import textract\n",
    "import docx2txt\n",
    "def readwordfile(z): \n",
    "    \"\"\"Function to read word file\"\"\"\n",
    "    text=docx2txt.process(z)\n",
    "    print(text)"
   ]
  },
  {
   "cell_type": "code",
   "execution_count": null,
   "metadata": {},
   "outputs": [],
   "source": [
    "z=\"C:\\\\Users\\\\Administrator\\\\datascience\\\\krishnaik\\\\Request Form.doc\"\n",
    "readwordfile(z)"
   ]
  },
  {
   "cell_type": "code",
   "execution_count": null,
   "metadata": {},
   "outputs": [],
   "source": [
    "#18.write a function which can help you to filter only word file from a directory\n",
    "import os\n",
    "def wordfilter(a):\n",
    "    \"\"\"Function to filter only word files\"\"\"\n",
    "    for file in os.listdir(a):\n",
    "        if file.endswith(\".doc\"):\n",
    "            print(file)"
   ]
  },
  {
   "cell_type": "code",
   "execution_count": null,
   "metadata": {},
   "outputs": [],
   "source": [
    "#19.find ip address\n",
    "import socket\n",
    "def findip():\n",
    "    \"\"\"Function to find IP address\"\"\"\n",
    "    hostnm=socket.gethostname()\n",
    "    ipaddr=socket.gethostbyname(hostnm)\n",
    "    return ipaddr\n",
    "    \n"
   ]
  },
  {
   "cell_type": "code",
   "execution_count": null,
   "metadata": {},
   "outputs": [],
   "source": [
    "#20.write a function by which you will be able to append two PDF files\n",
    "import PyPDF2\n",
    "def Pdfmerge(a,b):\n",
    "    \"\"\"Function to append two PDF files\"\"\"\n",
    "    pdfmerger=PyPDF2.PdfFileMerger()\n",
    "    \n",
    "    for pdf in a,b:\n",
    "        pdfmerger.append(pdf)\n",
    "    pdfmerger.write(\"result.pdf\")\n",
    "    return pdfmerger\n",
    "    pdfmerger.close()\n",
    "    "
   ]
  },
  {
   "cell_type": "code",
   "execution_count": null,
   "metadata": {},
   "outputs": [],
   "source": [
    "a=\"C:\\\\Users\\\\Administrator\\\\datascience\\\\krishnaik\\\\4. Data processing and EDA.pdf\"\n",
    "b=\"C:\\\\Users\\\\Administrator\\\\datascience\\\\krishnaik\\\\5 Data Munging.pdf\"\n",
    "\n",
    "Pdfmerge(\"C:\\\\Users\\\\Administrator\\\\datascience\\\\krishnaik\\\\4. Data processing and EDA.pdf\",\"C:\\\\Users\\\\Administrator\\\\datascience\\\\krishnaik\\\\5 Data Munging.pdf\")\n"
   ]
  },
  {
   "cell_type": "code",
   "execution_count": null,
   "metadata": {},
   "outputs": [],
   "source": [
    "a=\"C:\\\\Users\\\\Administrator\\\\datascience\\\\krishnaik\"\n",
    "wordfilter(a)"
   ]
  },
  {
   "cell_type": "code",
   "execution_count": null,
   "metadata": {},
   "outputs": [],
   "source": [
    "#7.repeat.write a function which will return list of all the file name from a dictioaimport os\n",
    "import os\n",
    "def listfile(a):\n",
    "    \"\"\"Function to return files from dictionary\"\"\"\n",
    "    listfile=os.listdir(a)\n",
    "    return listfile\n",
    "    \n"
   ]
  },
  {
   "cell_type": "code",
   "execution_count": null,
   "metadata": {},
   "outputs": [],
   "source": [
    "a=\"C:\\\\Users\\\\Administrator\\\\datascience\\\\krishnaik\"\n",
    "listfile(a)"
   ]
  },
  {
   "cell_type": "code",
   "execution_count": null,
   "metadata": {},
   "outputs": [],
   "source": [
    "findip()"
   ]
  },
  {
   "cell_type": "code",
   "execution_count": null,
   "metadata": {},
   "outputs": [],
   "source": [
    "shutdownsystem()"
   ]
  },
  {
   "cell_type": "code",
   "execution_count": null,
   "metadata": {},
   "outputs": [],
   "source": [
    "#email()"
   ]
  },
  {
   "cell_type": "code",
   "execution_count": null,
   "metadata": {},
   "outputs": [],
   "source": []
  },
  {
   "cell_type": "markdown",
   "metadata": {},
   "source": [
    "a=1\n",
    "b=3\n",
    "m(a,b)"
   ]
  },
  {
   "cell_type": "markdown",
   "metadata": {},
   "source": [
    "def findindex(l):\n",
    "    \"\"\" this fiunction is to find index of all primitive elements\"\"\"\n",
    "    for i in range(len(l)):\n",
    "        print(i)"
   ]
  }
 ],
 "metadata": {
  "kernelspec": {
   "display_name": "Python 3",
   "language": "python",
   "name": "python3"
  },
  "language_info": {
   "codemirror_mode": {
    "name": "ipython",
    "version": 3
   },
   "file_extension": ".py",
   "mimetype": "text/x-python",
   "name": "python",
   "nbconvert_exporter": "python",
   "pygments_lexer": "ipython3",
   "version": "3.7.6"
  }
 },
 "nbformat": 4,
 "nbformat_minor": 4
}
