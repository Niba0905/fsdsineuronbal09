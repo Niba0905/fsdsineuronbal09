{
 "cells": [
  {
   "cell_type": "markdown",
   "metadata": {},
   "source": [
    "1. In the below elements which of them are values or an expression? eg:- values can be integer or string and expressions will be mathematical operators.\n",
    "* -Expression\n",
    "'hello'-Value\n",
    "-87.8-Value\n",
    "- -Expression\n",
    "/ -Expression\n",
    "+-Expression\n",
    "6 -Value"
   ]
  },
  {
   "cell_type": "markdown",
   "metadata": {},
   "source": [
    "A variable is something that holds a value that may change. In simplest terms, a variable is just a placeholder that you can put stuff in. You can use variables to store all kinds of stuff.\n",
    "A 'string' is simply a list of characters in order. A character is anything you can type on the keyboard in one keystroke, like a letter, a number, or a backslash. \n"
   ]
  },
  {
   "cell_type": "markdown",
   "metadata": {},
   "source": [
    "3 different data types\n",
    "Bool-Which accespts True(or)False\n",
    "Float-The float type in Python designates a floating-point number. float values are specified with a decimal point. \n",
    "complex-are specified as <real part>+<imaginary part>j(e.g)5+3j  \n",
    "    string,Integer"
   ]
  },
  {
   "cell_type": "markdown",
   "metadata": {},
   "source": [
    "An expression is a combination of values, variables, operators, and calls to functions.\n",
    "e.g:-\n",
    "5+4\n",
    "raj+ram\n",
    "3*5\n",
    "5+4x"
   ]
  },
  {
   "cell_type": "markdown",
   "metadata": {},
   "source": [
    "What is the difference between an expression and a statement?\n",
    "statement is assigning some stuff to a variable and it occupies some space.(x=10, y='ssss')\n",
    "Expresion is an operator.(+,-,*,etc)"
   ]
  },
  {
   "cell_type": "markdown",
   "metadata": {},
   "source": [
    "After running the following code, what does the variable bacon contain?\n",
    "bacon = 22\n",
    "bacon + 1\n",
    "\n",
    "23"
   ]
  },
  {
   "cell_type": "markdown",
   "metadata": {},
   "source": [
    "'spam' + 'spamspam'=spamspamspam\n"
   ]
  },
  {
   "cell_type": "markdown",
   "metadata": {},
   "source": [
    "'spam' * 3=spamspamspam"
   ]
  },
  {
   "cell_type": "markdown",
   "metadata": {},
   "source": [
    "Why is eggs a valid variable name while 100 is invalid\n",
    "\n",
    "Ans-variable can not start with a number"
   ]
  },
  {
   "cell_type": "markdown",
   "metadata": {},
   "source": [
    "int(),float() & str()-These three functions evaluate to the integer, floating-point number, and string versions of the value passed to them."
   ]
  },
  {
   "cell_type": "markdown",
   "metadata": {},
   "source": [
    "'I have eaten ' + 99 + ' burritos.'-can only concatenate str (not \"int\") to str\n",
    "\n",
    "To fix-'I have eaten ' + '99' + ' burritos.'\n",
    "\n",
    "output-'I have eaten 99 burritos.'\n"
   ]
  },
  {
   "cell_type": "code",
   "execution_count": null,
   "metadata": {},
   "outputs": [],
   "source": []
  }
 ],
 "metadata": {
  "kernelspec": {
   "display_name": "Python 3",
   "language": "python",
   "name": "python3"
  },
  "language_info": {
   "codemirror_mode": {
    "name": "ipython",
    "version": 3
   },
   "file_extension": ".py",
   "mimetype": "text/x-python",
   "name": "python",
   "nbconvert_exporter": "python",
   "pygments_lexer": "ipython3",
   "version": "3.7.6"
  }
 },
 "nbformat": 4,
 "nbformat_minor": 4
}
