{
 "cells": [
  {
   "cell_type": "code",
   "execution_count": 3,
   "metadata": {},
   "outputs": [],
   "source": [
    "#1. What are the two values of the Boolean data type? How do you write them?\n",
    "Boolean=True\n",
    "Boolean=False\n"
   ]
  },
  {
   "cell_type": "markdown",
   "metadata": {},
   "source": [
    "#2.What are the two values of the Boolean data type? How do you write them?\n",
    "\n",
    "Boolean Operators-AND,OR & NOT"
   ]
  },
  {
   "cell_type": "markdown",
   "metadata": {},
   "source": [
    "Make a list of each Boolean operator's truth tables\n",
    "#3. Make a list of each Boolean operator's truth tables\n",
    "#(i.e. every possible combination of Boolean values for the operator and what it evaluate ).\n",
    "\n",
    "a\tb\ta and b\n",
    "False\tFalse\tFalse\n",
    "False\tTrue\tFalse\n",
    "True\tFalse\tFalse\n",
    "True\tTrue\tTrue\n",
    "\n",
    "a\tb\ta or b\n",
    "F\tF\tF\n",
    "F\tT\tT\n",
    "T\tF\tT\n",
    "T\tT\tT\n",
    "\n",
    "\n",
    "a\tnot a\n",
    "F\tT\n",
    "T\tF"
   ]
  },
  {
   "cell_type": "markdown",
   "metadata": {},
   "source": [
    "#What are the values of the following expressions?\n",
    "(5 > 4) and (3 == 5)=False\n",
    "not (5 > 4)=False\n",
    "(5 > 4) or (3 == 5)=True\n",
    "not ((5 > 4) or (3 == 5))=False\n",
    "(True and True) and (True == False)=False\n",
    "(not False) or (not True)=True"
   ]
  },
  {
   "cell_type": "markdown",
   "metadata": {},
   "source": [
    "#six comparision operators\n",
    "#5. What are the six comparison operators?\n",
    "Equal to,\n",
    "Not equal to, \n",
    "Greater than, \n",
    "Greater than or equal to,\n",
    "Less than, \n",
    "Less than or equal to."
   ]
  },
  {
   "cell_type": "markdown",
   "metadata": {},
   "source": [
    "#6. How do you tell the difference between the equal to\n",
    "and assignment operators?Describe a condition and when you would use one.\n",
    "\n",
    "Equal to is confirming/proving two values are equal\n",
    "5==5\n",
    "x=10\n",
    "y=10\n",
    "x==y\n",
    "Asssignmet operator is used to assign some values to a variable\n",
    "A=3\n",
    "If we want to assign any values in a program then use = and it's a place holder occupy some memory\n",
    "if we want to check any condition then use ==\n"
   ]
  },
  {
   "cell_type": "markdown",
   "metadata": {},
   "source": [
    "spam = 0\n",
    "---BLOCK 1---\n",
    "if spam == 10:\n",
    "print('eggs')\n",
    "-----BLOCK 2-----\n",
    "if spam > 5:\n",
    "print('bacon')\n",
    "----BLOCK 3----\n",
    "else:\n",
    "print('ham')\n",
    "print('spam')\n",
    "print('spam')"
   ]
  },
  {
   "cell_type": "code",
   "execution_count": 12,
   "metadata": {},
   "outputs": [
    {
     "name": "stdout",
     "output_type": "stream",
     "text": [
      "enter the value for spam1\n",
      "Hello\n",
      "Greetings\n"
     ]
    }
   ],
   "source": [
    "spam =int(input('enter the value for spam'))\n",
    "          \n",
    "if spam == 1:\n",
    "    print('Hello')\n",
    "           \n",
    "if spam == 2:\n",
    "    print('Howdy')\n",
    "else:    \n",
    "    print('Greetings!')\n"
   ]
  },
  {
   "cell_type": "markdown",
   "metadata": {},
   "source": [
    "If your programme is stuck in an endless loop, what keys you’ll press?\n",
    "ctrl+c"
   ]
  },
  {
   "cell_type": "markdown",
   "metadata": {},
   "source": [
    "Break will end the loop and wont execute the steps after the break statement.\n",
    "continue wont interrupt the execution loop and execute the remaining steps after continue statement.\n"
   ]
  },
  {
   "cell_type": "markdown",
   "metadata": {},
   "source": [
    " In a for loop, what is the difference between range(10), range(0, 10), and range(0, 10, 1)\n",
    "No differenc as all will produce same result(i.e) Numbers from 0-9\n",
    "  "
   ]
  },
  {
   "cell_type": "code",
   "execution_count": 18,
   "metadata": {},
   "outputs": [
    {
     "name": "stdout",
     "output_type": "stream",
     "text": [
      "1\n",
      "2\n",
      "3\n",
      "4\n",
      "5\n",
      "6\n",
      "7\n",
      "8\n",
      "9\n",
      "10\n"
     ]
    }
   ],
   "source": [
    "\"\"\"for loop to print number from 1 to 10\"\"\"\n",
    "for i in range (1,11):\n",
    "    print(i)"
   ]
  },
  {
   "cell_type": "code",
   "execution_count": 29,
   "metadata": {},
   "outputs": [
    {
     "name": "stdout",
     "output_type": "stream",
     "text": [
      "1\n",
      "2\n",
      "3\n",
      "4\n",
      "5\n",
      "6\n",
      "7\n",
      "8\n",
      "9\n",
      "10\n"
     ]
    }
   ],
   "source": [
    "\"\"\"while loop to print number from 1 to 10\"\"\"\n",
    "i=1\n",
    "while(i<=10):\n",
    "    print(i)\n",
    "    i+=1"
   ]
  },
  {
   "cell_type": "markdown",
   "metadata": {},
   "source": [
    "spam.bacon()"
   ]
  }
 ],
 "metadata": {
  "kernelspec": {
   "display_name": "Python 3",
   "language": "python",
   "name": "python3"
  },
  "language_info": {
   "codemirror_mode": {
    "name": "ipython",
    "version": 3
   },
   "file_extension": ".py",
   "mimetype": "text/x-python",
   "name": "python",
   "nbconvert_exporter": "python",
   "pygments_lexer": "ipython3",
   "version": "3.7.6"
  }
 },
 "nbformat": 4,
 "nbformat_minor": 4
}
